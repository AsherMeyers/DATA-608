{
 "cells": [
  {
   "cell_type": "markdown",
   "metadata": {},
   "source": [
    "#### Muni Money: A Dashboard\n",
    "\n",
    "California is in the throes of a housing crisis, with even the middle class unable to find housing they can afford in the cities where opportunity is greatest, such as San Francisco, Cupertino, Palo Alto and Los Angeles. One big contributor: cities, at the behest of existing residents, severely limit the amount of housing growth, forcing some newcomers and children coming of age to ultimately leave or become homeless. Local companies are increasingly concerned about how they can pay workers enough to afford housing, which may just add fuel to the fire by further bidding up housing prices, if little to no additional housing is built.\n",
    "\n",
    "Many have speculated as to why residents, who tend to be whiter, wealthier and older than newcomers, object to new housing. Some common explanations, in no particular order:\n",
    "1. Self-enrichment: a scarcity of housing drives up the cost of housing, making their housing more valuable. However, this is a bit more complicated, since the underlying land may be even more valuable if it can house multiple homes, such as apartments or houses on smaller lots, and even in those cases, opposition still occurs.\n",
    "2. Objection to higher population density: most of these places are constructed around cars, and adding more drivers to the mix will tend to mean more congestion. Some may incorrectly equate greater density with greater crime.\n",
    "3. Disdain for people, especially those with less money, who live differently: apartments are sometimes seen, incorrectly as hotbeds of crime. The drought is another reason cited for putting up an economic wall around these cities, though new housing can be designed to use less water, with appropriate landscaping and fewer lawns.\n",
    "\n",
    "One idea I found attractive, was the ['Club NIMBY' explanation by Chris Bradford](https://www.citylab.com/equity/2016/02/nimbyism-define-club-chris-bradford/461946/). Bradford, citing the rhetoric of such opponents, sees a common pattern - that residents are concerned about neighborhood amenities, and how they might decline in quality if population increases. Say, crowding at public schools or parks, or an inability to get support from local city officials on public concerns. With the proper focus, cities could find ways to maintain these amenities for residents new and old alike, or at least ensure they don't fall below a reasonable standard.\n",
    "\n",
    "The data I use contains the average city spending per resident, which can be considered one index of 'neighborhood amenity.' \n",
    "\n",
    "\n",
    "Of course, given the data I use, the dashboard I have built is relevant for many other topics concerning city finances. I just wanted to give a little personal context, of how I chose this idea."
   ]
  },
  {
   "attachments": {},
   "cell_type": "markdown",
   "metadata": {},
   "source": [
    "#### Defining Race & Ethnicity\n",
    "\n",
    "By the US Census's definitions, Hispanics/Latinos can be of any race, but this does not allow separation of groups for demographic comparison. For instance, here is the [Census breakdown for Los Angeles](https://www.census.gov/quickfacts/fact/table/losangelescitycalifornia/PST045217):\n",
    "\n",
    "Index | Group | % of Population \n",
    "- |- |-\n",
    "A\t|\tWhite\t|\t52.40%\n",
    "B\t|\tWhite, non-Hispanic\t|\t28.50%\n",
    "C\t|\tAsian\t|\t11.60%\n",
    "D\t|\tBlack\t|\t9.00%\n",
    "E\t|\tMixed Race\t|\t3.60%\n",
    "F\t|\tAmerican Indian\t|\t0.70%\n",
    "G\t|\tPacific Islander\t|\t0.20%\n",
    "H\t|\tHispanic/Latino of any race\t|\t48.60%\n",
    "N   |   Sum of non-Hispanic/Latino | 53.60%\n",
    "T\t|\tSum of B-H\t|\t102.20%\n",
    "L\t|\tLatino = Hispanic of Any Race / Sum T\t|\t47.6%\n",
    "\n",
    "For the purposes of this dashboard, I've defined Latino as Hispanic/Latino of any race, divided by the sum T, which is over 100% because respondents may have self-identified as both Latino and a race besides white. This is simply renormalizing sums to 100%. \n",
    "\n",
    "For example, for LA we have a sum T of 102.20%, so we'd then divide each % above by 102.20%. That would yield a Latino population of 47.6% (48.60%/102.20%). This leads to a greater concordance with the survey results, versus calculating Latino populations as the balance remaining after other groups are subtracted, in this case 46.40% (100% - 53.60%). The difference is potentially more pronounced in cities with smaller Hispanic populations, as in Santa Monica, where normalizing obtains 15.92%, whereas the remainder is 15%, vs a survey result of 16.10% for Hispanic/Latino population."
   ]
  }
 ],
 "metadata": {
  "kernelspec": {
   "display_name": "R",
   "language": "R",
   "name": "ir"
  },
  "language_info": {
   "codemirror_mode": "r",
   "file_extension": ".r",
   "mimetype": "text/x-r-source",
   "name": "R",
   "pygments_lexer": "r",
   "version": "3.4.3"
  }
 },
 "nbformat": 4,
 "nbformat_minor": 2
}
