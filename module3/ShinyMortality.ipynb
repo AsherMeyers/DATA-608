{
 "cells": [
  {
   "cell_type": "code",
   "execution_count": 3,
   "metadata": {},
   "outputs": [
    {
     "name": "stderr",
     "output_type": "stream",
     "text": [
      "\n",
      "Attaching package: 'plotly'\n",
      "\n",
      "The following object is masked from 'package:ggplot2':\n",
      "\n",
      "    last_plot\n",
      "\n",
      "The following object is masked from 'package:stats':\n",
      "\n",
      "    filter\n",
      "\n",
      "The following object is masked from 'package:graphics':\n",
      "\n",
      "    layout\n",
      "\n"
     ]
    }
   ],
   "source": [
    "# Import needed packages\n",
    "library(shiny)\n",
    "library(ggplot2)\n",
    "library(plotly)\n",
    "\n",
    "\n",
    "# Load raw data\n",
    "df <- read.csv(\"mortality.csv\")\n",
    "\n"
   ]
  },
  {
   "cell_type": "code",
   "execution_count": null,
   "metadata": {},
   "outputs": [
    {
     "name": "stderr",
     "output_type": "stream",
     "text": [
      "\n",
      "Listening on http://127.0.0.1:6151\n"
     ]
    }
   ],
   "source": [
    "runExample(\"01_hello\")"
   ]
  },
  {
   "cell_type": "code",
   "execution_count": 1,
   "metadata": {},
   "outputs": [
    {
     "ename": "ERROR",
     "evalue": "Error in parse(text = x, srcfile = src): <text>:49:34: unexpected '['\n48:   # 2. Its output type is a plot\n49:   output$distPlot <- renderPlot({[\n                                     ^\n",
     "output_type": "error",
     "traceback": [
      "Error in parse(text = x, srcfile = src): <text>:49:34: unexpected '['\n48:   # 2. Its output type is a plot\n49:   output$distPlot <- renderPlot({[\n                                     ^\nTraceback:\n"
     ]
    }
   ],
   "source": [
    "library(shiny)\n",
    "runExample(\"01_hello\")\n",
    "\n",
    "library(shiny)\n",
    "\n",
    "# Define UI for app that draws a histogram ----\n",
    "ui <- fluidPage(\n",
    "  \n",
    "  # App title ----\n",
    "  titlePanel(\"Hello Shiny!\"),\n",
    "  \n",
    "  # Sidebar layout with input and output definitions ----\n",
    "  sidebarLayout(\n",
    "    \n",
    "    # Sidebar panel for inputs ----\n",
    "    sidebarPanel(\n",
    "      \n",
    "      # Input: Slider for the number of bins ----\n",
    "      sliderInput(inputId = \"bins\",\n",
    "                  label = \"Number of bins:\",\n",
    "                  min = 1,\n",
    "                  max = 50,\n",
    "                  value = 30)\n",
    "      \n",
    "    ),\n",
    "    \n",
    "    # Main panel for displaying outputs ----\n",
    "    mainPanel(\n",
    "      \n",
    "      # Output: Histogram ----\n",
    "      plotOutput(outputId = \"distPlot\")\n",
    "      \n",
    "    )\n",
    "  )\n",
    ")\n",
    "\n",
    "\n",
    "# Define server logic required to draw a histogram ----\n",
    "server <- function(input, output) {\n",
    "  \n",
    "  # Histogram of the Old Faithful Geyser Data ----\n",
    "  # with requested number of bins\n",
    "  # This expression that generates a histogram is wrapped in a call\n",
    "  # to renderPlot to indicate that:\n",
    "  #\n",
    "  # 1. It is \"reactive\" and therefore should be automatically\n",
    "  #    re-executed when inputs (input$bins) change\n",
    "  # 2. Its output type is a plot\n",
    "  output$distPlot <- renderPlot({[]\n",
    "    \n",
    "    x    <- faithful$waiting\n",
    "    bins <- seq(min(x), max(x), length.out = input$bins + 1)\n",
    "    \n",
    "    hist(x, breaks = bins, col = \"#75AADB\", border = \"white\",\n",
    "         xlab = \"Waiting time to next eruption (in mins)\",\n",
    "         main = \"Histogram of waiting times\")\n",
    "    \n",
    "  })\n",
    "  \n",
    "}\n",
    "\n",
    "shinyApp(ui = ui, server = server)"
   ]
  }
 ],
 "metadata": {
  "kernelspec": {
   "display_name": "R",
   "language": "R",
   "name": "ir"
  },
  "language_info": {
   "codemirror_mode": "r",
   "file_extension": ".r",
   "mimetype": "text/x-r-source",
   "name": "R",
   "pygments_lexer": "r",
   "version": "3.4.3"
  }
 },
 "nbformat": 4,
 "nbformat_minor": 2
}
